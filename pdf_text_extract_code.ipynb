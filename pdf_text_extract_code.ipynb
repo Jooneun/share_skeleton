{
 "cells": [
  {
   "cell_type": "code",
   "execution_count": 1,
   "id": "61ba3388-5c77-4bad-809b-a4b085454662",
   "metadata": {},
   "outputs": [
    {
     "name": "stdout",
     "output_type": "stream",
     "text": [
      "\u001b[33mWARNING: Ignoring invalid distribution -rotobuf (/opt/conda/lib/python3.10/site-packages)\u001b[0m\u001b[33m\n",
      "\u001b[0m\u001b[33mWARNING: Ignoring invalid distribution -rotobuf (/opt/conda/lib/python3.10/site-packages)\u001b[0m\u001b[33m\n",
      "\u001b[0m\u001b[33m  WARNING: The script tb-gcp-uploader is installed in '/home/jupyter/.local/bin' which is not on PATH.\n",
      "  Consider adding this directory to PATH or, if you prefer to suppress this warning, use --no-warn-script-location.\u001b[0m\u001b[33m\n",
      "\u001b[0mNote: you may need to restart the kernel to use updated packages.\n"
     ]
    }
   ],
   "source": [
    "%pip install --upgrade --user --quiet google-cloud-aiplatform\n",
    "%pip install pandas_gbq\n",
    "%pip install PyPDF2\n",
    "%pip install textblob"
   ]
  },
  {
   "cell_type": "code",
   "execution_count": 1,
   "id": "6e319553-638b-4f73-aef6-ad3105205330",
   "metadata": {},
   "outputs": [
    {
     "data": {
      "text/plain": [
       "{'status': 'ok', 'restart': True}"
      ]
     },
     "execution_count": 1,
     "metadata": {},
     "output_type": "execute_result"
    }
   ],
   "source": [
    "# # Restart kernel after installs so that your environment can access the new packages\n",
    "# import pandas as pd\n",
    "# import IPython\n",
    "\n",
    "# app = IPython.Application.instance()\n",
    "# app.kernel.do_shutdown(True)"
   ]
  },
  {
   "cell_type": "code",
   "execution_count": 1,
   "id": "63639f93-157d-4bd0-bfcf-2d44cf1c7321",
   "metadata": {},
   "outputs": [],
   "source": [
    "# Define project information\n",
    "PROJECT_ID = \"jc-gcp-project\"  # @param {type:\"string\"}\n",
    "LOCATION = \"us-central1\"  # @param {type:\"string\"}\n",
    "\n",
    "# Initialize Vertex AI\n",
    "import vertexai\n",
    "\n",
    "vertexai.init(project=PROJECT_ID, location=LOCATION)"
   ]
  },
  {
   "cell_type": "markdown",
   "id": "42cacc5f-6f4d-42db-ac53-59cfea571e65",
   "metadata": {},
   "source": [
    "## Import Library"
   ]
  },
  {
   "cell_type": "code",
   "execution_count": 2,
   "id": "8e59a430-6f9e-4821-9244-48c40f4959b8",
   "metadata": {},
   "outputs": [],
   "source": [
    "import json\n",
    "import pandas as pd\n",
    "import IPython\n",
    "from IPython.display import display, display_pdf, IFrame\n",
    "from vertexai.generative_models import (\n",
    "    GenerativeModel,\n",
    "    HarmCategory,\n",
    "    HarmBlockThreshold,\n",
    "    Part,\n",
    ")"
   ]
  },
  {
   "cell_type": "code",
   "execution_count": 2,
   "id": "d7a3e1aa-4d82-4aad-a95d-db40ca01193c",
   "metadata": {},
   "outputs": [],
   "source": [
    "import pandas_gbq"
   ]
  },
  {
   "cell_type": "code",
   "execution_count": 3,
   "id": "da421be8-d6ef-4c2d-b4dd-49c19fd6dc80",
   "metadata": {},
   "outputs": [],
   "source": [
    "model = GenerativeModel(\"gemini-1.5-pro-preview-0409\")\n",
    "\n",
    "generation_config = {\n",
    "    \"temperature\": 0.0,\n",
    "    \"response_mime_type\": \"application/json\",\n",
    "}\n",
    "safety_settings = {\n",
    "    HarmCategory.HARM_CATEGORY_HATE_SPEECH: HarmBlockThreshold.BLOCK_NONE,\n",
    "    HarmCategory.HARM_CATEGORY_DANGEROUS_CONTENT: HarmBlockThreshold.BLOCK_NONE,\n",
    "    HarmCategory.HARM_CATEGORY_SEXUALLY_EXPLICIT: HarmBlockThreshold.BLOCK_NONE,\n",
    "    HarmCategory.HARM_CATEGORY_HARASSMENT: HarmBlockThreshold.BLOCK_NONE,\n",
    "    HarmCategory.HARM_CATEGORY_UNSPECIFIED: HarmBlockThreshold.BLOCK_NONE,\n",
    "}"
   ]
  },
  {
   "cell_type": "code",
   "execution_count": 4,
   "id": "96918d4b-f0cd-45bb-9565-746144d2a4b7",
   "metadata": {},
   "outputs": [],
   "source": [
    "def get_file_bytes(file_path: str) -> bytes:\n",
    "    with open(file_path, \"rb\") as file:\n",
    "        return file.read()\n",
    "\n",
    "\n",
    "def get_url_from_gcs(gcs_uri: str) -> str:\n",
    "    # converts gcs uri to url for image display.\n",
    "    return \"https://storage.googleapis.com/\" + gcs_uri.replace(\"gs://\", \"\").replace(\n",
    "        \" \", \"%20\"\n",
    "    )\n",
    "\n",
    "\n",
    "def print_multimodal_prompt(contents: list):\n",
    "    \"\"\"\n",
    "    Given contents that would be sent to Gemini,\n",
    "    output the full multimodal prompt for ease of readability.\n",
    "    \"\"\"\n",
    "    for content in contents:\n",
    "        if isinstance(content, Part):\n",
    "            if content.inline_data:\n",
    "                display_pdf(content.inline_data.data)\n",
    "            elif content.file_data:\n",
    "                display(\n",
    "                    IFrame(\n",
    "                        get_url_from_gcs(content.file_data.file_uri),\n",
    "                        width=600,\n",
    "                        height=300,\n",
    "                    )\n",
    "                )\n",
    "        else:\n",
    "            print(content)\n",
    "\n",
    "\n",
    "# Send Google Cloud Storage Document to Google Cloud Storage\n",
    "def process_document(\n",
    "    prompt: str,\n",
    "    file_uri: str,\n",
    "    mime_type: str = \"text/plain\",\n",
    "#        mime_type: str = \"application/pdf\",\n",
    "\n",
    "    print_prompt: bool = False,\n",
    "    print_raw_response: bool = False,\n",
    ") -> str:\n",
    "    # Load file directly from Google Cloud Storage\n",
    "    file_part = Part.from_uri(\n",
    "        uri=file_uri,\n",
    "        mime_type=mime_type,\n",
    "    )\n",
    "\n",
    "    # Load contents\n",
    "    contents = [file_part, prompt]\n",
    "\n",
    "    # Send to Gemini\n",
    "    response = model.generate_content(\n",
    "        contents, generation_config=generation_config, safety_settings=safety_settings\n",
    "    )\n",
    "\n",
    "    if print_prompt:\n",
    "        print(\"-------Prompt--------\")\n",
    "        print_multimodal_prompt(contents)\n",
    "\n",
    "    if print_raw_response:\n",
    "        print(\"\\n-------Raw Response--------\")\n",
    "        print(response)\n",
    "\n",
    "    return response.text"
   ]
  },
  {
   "cell_type": "markdown",
   "id": "40ce17a4-c529-4525-b5e9-5d1760ff3b3b",
   "metadata": {},
   "source": [
    "## 설명서 데이터셋"
   ]
  },
  {
   "cell_type": "code",
   "execution_count": 7,
   "id": "27e9e6b2-ce9a-47fa-a47a-20aac352f270",
   "metadata": {},
   "outputs": [
    {
     "name": "stdout",
     "output_type": "stream",
     "text": [
      "122\n"
     ]
    }
   ],
   "source": [
    "import PyPDF2\n",
    "from textblob import TextBlob\n",
    "\n",
    "pdf_file = open('air_condition.pdf', 'rb')\n",
    "reader = PyPDF2.PdfReader(pdf_file)\n",
    "\n",
    "total_pages = len(reader.pages)\n",
    "print(total_pages)"
   ]
  },
  {
   "cell_type": "code",
   "execution_count": 8,
   "id": "22fd1bde-0ecf-4e59-92fd-057503038498",
   "metadata": {},
   "outputs": [
    {
     "name": "stdout",
     "output_type": "stream",
     "text": [
      "0\n",
      "122\n"
     ]
    }
   ],
   "source": [
    "def divide_with_remainder(dividend, divisor):\n",
    "    quotient = dividend // divisor\n",
    "    remainder = dividend % divisor\n",
    "    return quotient, remainder\n",
    "\n",
    "quotient, remainder = divide_with_remainder(total_pages, 1000)\n",
    "print(quotient)  # 2\n",
    "print(remainder)  # 50"
   ]
  },
  {
   "cell_type": "code",
   "execution_count": 9,
   "id": "054f1273-de31-4f3f-8cd0-cfefb456d8e6",
   "metadata": {},
   "outputs": [],
   "source": [
    "import os\n",
    "from google.cloud import storage\n",
    "\n",
    "# Set your project ID and bucket name\n",
    "bucket_name = \"jc-gcp-project-01\"\n",
    "\n",
    "# Specify the local file path and the Cloud Storage destination path\n",
    "#local_file_path = \"text0.txt\"  # Replace with your local file path\n",
    "#destination_blob_name = \"text0.txt\"  # Replace with your desired path in Cloud Storage\n",
    "\n",
    "# Create a Storage Client object\n",
    "storage_client = storage.Client(project=PROJECT_ID)\n",
    "\n",
    "# Get a reference to the Cloud Storage bucket\n",
    "bucket = storage_client.get_bucket(bucket_name)"
   ]
  },
  {
   "cell_type": "code",
   "execution_count": 55,
   "id": "d395be5e-0096-4f6e-96a8-b3f30c278ebd",
   "metadata": {},
   "outputs": [
    {
     "name": "stdout",
     "output_type": "stream",
     "text": [
      "36\n"
     ]
    }
   ],
   "source": [
    "pdf_file = open('air_cleaner.pdf', 'rb')\n",
    "reader = PyPDF2.PdfReader(pdf_file)\n",
    "\n",
    "total_pages = len(reader.pages)\n",
    "print(total_pages)"
   ]
  },
  {
   "cell_type": "code",
   "execution_count": 56,
   "id": "17293de8-e806-4900-9d86-35fbfa4a82d4",
   "metadata": {},
   "outputs": [],
   "source": [
    "## Air clean\n",
    "page_no = 0\n",
    "df_save = pd.DataFrame(columns=['page', 'text_exp', 'api'])\n",
    "file_name = \"text_total.txt\"  #  str(file_no) 추가\n",
    "with open(file_name, \"w\") as file:\n",
    "    for page_no in range(total_pages):\n",
    "       # print(f\"\\n\\n**** PAGE {page_no + 1} ****\\n\\n\")\n",
    "        now_page = reader.pages[page_no]\n",
    "        #file.write(str(file_no))  # str(file_no) 추가\n",
    "        file.write(now_page.extract_text())\n",
    "        # df_save.loc[page_no] = df_save.append({'page': page_no, 'desc': now_page.extract_text(), 'api':'air_cleaner'}, ignore_index=True)\n",
    "        df_save.loc[page_no] = {'page': page_no, 'text_exp': now_page.extract_text(), 'api':'MANUAL_air_cleaner'}"
   ]
  },
  {
   "cell_type": "code",
   "execution_count": 57,
   "id": "8dea9f02-7e72-4d19-833b-891f92e20561",
   "metadata": {},
   "outputs": [
    {
     "name": "stdout",
     "output_type": "stream",
     "text": [
      "122\n"
     ]
    }
   ],
   "source": [
    "pdf_file = open('air_condition.pdf', 'rb')\n",
    "reader = PyPDF2.PdfReader(pdf_file)\n",
    "\n",
    "total_pages = len(reader.pages)\n",
    "print(total_pages)"
   ]
  },
  {
   "cell_type": "code",
   "execution_count": 58,
   "id": "70cb2d73-9bef-431a-90c9-273b7f207049",
   "metadata": {},
   "outputs": [],
   "source": [
    "## Air condition\n",
    "page_no = 0\n",
    "df_save_1 = pd.DataFrame(columns=['page', 'text_exp', 'api'])\n",
    "file_name = \"text_total_1.txt\"  #  str(file_no) 추가\n",
    "with open(file_name, \"w\") as file:\n",
    "    for page_no in range(total_pages):\n",
    "       # print(f\"\\n\\n**** PAGE {page_no + 1} ****\\n\\n\")\n",
    "        now_page = reader.pages[page_no]\n",
    "        #file.write(str(file_no))  # str(file_no) 추가\n",
    "        file.write(now_page.extract_text())\n",
    "        # df_save.loc[page_no] = df_save.append({'page': page_no, 'desc': now_page.extract_text(), 'api':'air_cleaner'}, ignore_index=True)\n",
    "        df_save_1.loc[page_no] = {'page': page_no, 'text_exp': now_page.extract_text(), 'api':'MANUAL_air_condition'}"
   ]
  },
  {
   "cell_type": "code",
   "execution_count": 59,
   "id": "ff0a1eae-5029-49e0-8425-ab82f4807b1c",
   "metadata": {},
   "outputs": [
    {
     "name": "stdout",
     "output_type": "stream",
     "text": [
      "147\n"
     ]
    }
   ],
   "source": [
    "pdf_file = open('smart_tv.pdf', 'rb')\n",
    "reader = PyPDF2.PdfReader(pdf_file)\n",
    "\n",
    "total_pages = len(reader.pages)\n",
    "print(total_pages)"
   ]
  },
  {
   "cell_type": "code",
   "execution_count": 60,
   "id": "89239342-2129-4a36-b5c4-10dca78a5bb3",
   "metadata": {},
   "outputs": [],
   "source": [
    "## Smart tv\n",
    "page_no = 0\n",
    "df_save_2 = pd.DataFrame(columns=['page', 'text_exp', 'api'])\n",
    "file_name = \"text_total_1.txt\"  #  str(file_no) 추가\n",
    "with open(file_name, \"w\") as file:\n",
    "    for page_no in range(total_pages):\n",
    "       # print(f\"\\n\\n**** PAGE {page_no + 1} ****\\n\\n\")\n",
    "        now_page = reader.pages[page_no]\n",
    "        #file.write(str(file_no))  # str(file_no) 추가\n",
    "        file.write(now_page.extract_text())\n",
    "        # df_save.loc[page_no] = df_save.append({'page': page_no, 'desc': now_page.extract_text(), 'api':'air_cleaner'}, ignore_index=True)\n",
    "        df_save_2.loc[page_no] = {'page': page_no, 'text_exp': now_page.extract_text(), 'api':'MANUAL_smart_tv'}"
   ]
  },
  {
   "cell_type": "code",
   "execution_count": 64,
   "id": "412134dc-4850-40fd-b208-f3bf9d3c5bf6",
   "metadata": {},
   "outputs": [
    {
     "data": {
      "text/plain": [
       "0                                                       \n",
       "1      . . . . . . . . . . . . . . . . . . . . . . . ...\n",
       "2      . . . . . . . . . . . . . . . . . . . . . . . ...\n",
       "3      . . . . . . . . . . . . . . . . . . . . . . . ...\n",
       "4      webOS \\n시작하기\\n시작하기\\n홈\\n홈\\n \\n둘러보기\\n둘러보기\\nLG we...\n",
       "                             ...                        \n",
       "142    1920 × 1080 \\n(\\n울트라\\nHD 120/144 Hz, 8K 120/14...\n",
       "143    3840 × 1080\\n \\n(144 Hz \\n모델만\\n \\n해당\\n)\\n166.5...\n",
       "144    4096 × 2160 \\n(\\n울트라\\nHD, 8K \\n모델만\\n \\n해당\\n)\\n...\n",
       "145    263.74\\n59.94\\n264\\n60\\n \\nHDMI Deep Color\\n를\\...\n",
       "146    블루투스\\n블루투스\\n®\\n \\n워드마크\\n \\n및\\n \\n로고는\\n Bluetoo...\n",
       "Name: text_exp, Length: 147, dtype: object"
      ]
     },
     "execution_count": 64,
     "metadata": {},
     "output_type": "execute_result"
    }
   ],
   "source": [
    "df_save_2['text_exp']"
   ]
  },
  {
   "cell_type": "code",
   "execution_count": 65,
   "id": "cd144811-05a0-425b-b410-97412839e71c",
   "metadata": {},
   "outputs": [
    {
     "name": "stdout",
     "output_type": "stream",
     "text": [
      "Total page :  305\n"
     ]
    }
   ],
   "source": [
    "### 설명서 데이터 합치기\n",
    "df_master = pd.concat([df_save, df_save_1])\n",
    "df_master = pd.concat([df_master, df_save_2])\n",
    "print('Total page : ', len(df_master))\n",
    "df_master = df_master[['text_exp', 'api']].reset_index(drop = True)\n",
    "# 간단한 Text처리\n",
    "df_master.replace({'\\n' : ''}, regex=True, inplace=True)\n",
    "df_master.replace({'   ' : ' '}, regex=True, inplace=True)"
   ]
  },
  {
   "cell_type": "markdown",
   "id": "8256ed31-067f-4187-8ba8-0b725fe046ef",
   "metadata": {},
   "source": [
    "## DF결과 간단 체크"
   ]
  },
  {
   "cell_type": "code",
   "execution_count": 67,
   "id": "fca922d4-35bc-4e4f-bd8e-8a03d38cc2bc",
   "metadata": {},
   "outputs": [
    {
     "data": {
      "text/html": [
       "<div>\n",
       "<style scoped>\n",
       "    .dataframe tbody tr th:only-of-type {\n",
       "        vertical-align: middle;\n",
       "    }\n",
       "\n",
       "    .dataframe tbody tr th {\n",
       "        vertical-align: top;\n",
       "    }\n",
       "\n",
       "    .dataframe thead th {\n",
       "        text-align: right;\n",
       "    }\n",
       "</style>\n",
       "<table border=\"1\" class=\"dataframe\">\n",
       "  <thead>\n",
       "    <tr style=\"text-align: right;\">\n",
       "      <th></th>\n",
       "      <th>text_exp</th>\n",
       "      <th>api</th>\n",
       "    </tr>\n",
       "  </thead>\n",
       "  <tbody>\n",
       "    <tr>\n",
       "      <th>0</th>\n",
       "      <td>www.lge.co.kr사용 전에 ‘안전을 위한 주의 사항’을 반드시 읽고 정확하게...</td>\n",
       "      <td>MANUAL_air_cleaner</td>\n",
       "    </tr>\n",
       "    <tr>\n",
       "      <th>1</th>\n",
       "      <td>차  례 본 설명서는 공용으로 제작되어 구입한 제품과 다른 이미지나 내용이 포함되어...</td>\n",
       "      <td>MANUAL_air_cleaner</td>\n",
       "    </tr>\n",
       "    <tr>\n",
       "      <th>2</th>\n",
       "      <td>고장 신고 전 확인 사항 ...................................</td>\n",
       "      <td>MANUAL_air_cleaner</td>\n",
       "    </tr>\n",
       "    <tr>\n",
       "      <th>3</th>\n",
       "      <td>04안전을 위한 주의 사항다음에 표기되어 있는 안전 관련한 주의 사항들은 제품을 안...</td>\n",
       "      <td>MANUAL_air_cleaner</td>\n",
       "    </tr>\n",
       "    <tr>\n",
       "      <th>4</th>\n",
       "      <td>05• 전원 플러그에 물기나 먼지를 완전히 제거한 후 콘센트에 단단히 꽂아 주십시오...</td>\n",
       "      <td>MANUAL_air_cleaner</td>\n",
       "    </tr>\n",
       "    <tr>\n",
       "      <th>...</th>\n",
       "      <td>...</td>\n",
       "      <td>...</td>\n",
       "    </tr>\n",
       "    <tr>\n",
       "      <th>300</th>\n",
       "      <td>1920 × 1080 (울트라HD 120/144 Hz, 8K 120/144 Hz 모...</td>\n",
       "      <td>MANUAL_smart_tv</td>\n",
       "    </tr>\n",
       "    <tr>\n",
       "      <th>301</th>\n",
       "      <td>3840 × 1080 (144 Hz 모델만 해당)166.561443840 × 160...</td>\n",
       "      <td>MANUAL_smart_tv</td>\n",
       "    </tr>\n",
       "    <tr>\n",
       "      <th>302</th>\n",
       "      <td>4096 × 2160 (울트라HD, 8K 모델만 해당)53.9423.97542456...</td>\n",
       "      <td>MANUAL_smart_tv</td>\n",
       "    </tr>\n",
       "    <tr>\n",
       "      <th>303</th>\n",
       "      <td>263.7459.9426460 HDMI Deep Color를 4K로 설정했을 때 지...</td>\n",
       "      <td>MANUAL_smart_tv</td>\n",
       "    </tr>\n",
       "    <tr>\n",
       "      <th>304</th>\n",
       "      <td>블루투스블루투스® 워드마크 및 로고는 Bluetooth SIG, Inc. 소유의 등...</td>\n",
       "      <td>MANUAL_smart_tv</td>\n",
       "    </tr>\n",
       "  </tbody>\n",
       "</table>\n",
       "<p>305 rows × 2 columns</p>\n",
       "</div>"
      ],
      "text/plain": [
       "                                              text_exp                 api\n",
       "0    www.lge.co.kr사용 전에 ‘안전을 위한 주의 사항’을 반드시 읽고 정확하게...  MANUAL_air_cleaner\n",
       "1    차  례 본 설명서는 공용으로 제작되어 구입한 제품과 다른 이미지나 내용이 포함되어...  MANUAL_air_cleaner\n",
       "2    고장 신고 전 확인 사항 ...................................  MANUAL_air_cleaner\n",
       "3    04안전을 위한 주의 사항다음에 표기되어 있는 안전 관련한 주의 사항들은 제품을 안...  MANUAL_air_cleaner\n",
       "4    05• 전원 플러그에 물기나 먼지를 완전히 제거한 후 콘센트에 단단히 꽂아 주십시오...  MANUAL_air_cleaner\n",
       "..                                                 ...                 ...\n",
       "300  1920 × 1080 (울트라HD 120/144 Hz, 8K 120/144 Hz 모...     MANUAL_smart_tv\n",
       "301  3840 × 1080 (144 Hz 모델만 해당)166.561443840 × 160...     MANUAL_smart_tv\n",
       "302  4096 × 2160 (울트라HD, 8K 모델만 해당)53.9423.97542456...     MANUAL_smart_tv\n",
       "303  263.7459.9426460 HDMI Deep Color를 4K로 설정했을 때 지...     MANUAL_smart_tv\n",
       "304  블루투스블루투스® 워드마크 및 로고는 Bluetooth SIG, Inc. 소유의 등...     MANUAL_smart_tv\n",
       "\n",
       "[305 rows x 2 columns]"
      ]
     },
     "execution_count": 67,
     "metadata": {},
     "output_type": "execute_result"
    }
   ],
   "source": [
    "df_master"
   ]
  },
  {
   "cell_type": "code",
   "execution_count": 66,
   "id": "860b6ec0-72c9-40ec-8e08-e702f2d7f135",
   "metadata": {},
   "outputs": [
    {
     "data": {
      "text/html": [
       "<div>\n",
       "<style scoped>\n",
       "    .dataframe tbody tr th:only-of-type {\n",
       "        vertical-align: middle;\n",
       "    }\n",
       "\n",
       "    .dataframe tbody tr th {\n",
       "        vertical-align: top;\n",
       "    }\n",
       "\n",
       "    .dataframe thead th {\n",
       "        text-align: right;\n",
       "    }\n",
       "</style>\n",
       "<table border=\"1\" class=\"dataframe\">\n",
       "  <thead>\n",
       "    <tr style=\"text-align: right;\">\n",
       "      <th></th>\n",
       "      <th>text_exp</th>\n",
       "      <th>api</th>\n",
       "    </tr>\n",
       "  </thead>\n",
       "  <tbody>\n",
       "    <tr>\n",
       "      <th>59</th>\n",
       "      <td>23 사용하기냉방 기본 기능 작동하기냉방 기능 사용하기제품의 냉방 기능이 작동하면 ...</td>\n",
       "      <td>MANUAL_air_condition</td>\n",
       "    </tr>\n",
       "    <tr>\n",
       "      <th>119</th>\n",
       "      <td>24 사용하기냉방 기본 기능 작동하기냉방 기능 사용하기제품의 냉방 기능이 작동하면 ...</td>\n",
       "      <td>MANUAL_air_condition</td>\n",
       "    </tr>\n",
       "  </tbody>\n",
       "</table>\n",
       "</div>"
      ],
      "text/plain": [
       "                                              text_exp                   api\n",
       "59   23 사용하기냉방 기본 기능 작동하기냉방 기능 사용하기제품의 냉방 기능이 작동하면 ...  MANUAL_air_condition\n",
       "119  24 사용하기냉방 기본 기능 작동하기냉방 기능 사용하기제품의 냉방 기능이 작동하면 ...  MANUAL_air_condition"
      ]
     },
     "execution_count": 66,
     "metadata": {},
     "output_type": "execute_result"
    }
   ],
   "source": [
    "df_master[df_master['text_exp'].str.contains(\"사용하기냉방 기본 기\")]"
   ]
  },
  {
   "cell_type": "code",
   "execution_count": 69,
   "id": "f7e2df33-7a59-4727-b164-63b6683aee13",
   "metadata": {},
   "outputs": [
    {
     "name": "stderr",
     "output_type": "stream",
     "text": [
      "100%|██████████| 1/1 [00:00<00:00, 7913.78it/s]\n"
     ]
    }
   ],
   "source": [
    "# 빅쿼리 테이블로 저장\n",
    "pandas_gbq.to_gbq(df_master, \"LG_test.manual_dataset\")"
   ]
  },
  {
   "cell_type": "code",
   "execution_count": 70,
   "id": "9ca1e3e9-2f7e-41cb-9d19-9699ef803687",
   "metadata": {},
   "outputs": [],
   "source": [
    "# CSV 저장\n",
    "df_master.to_csv('manual_dataset.csv')"
   ]
  },
  {
   "cell_type": "markdown",
   "id": "67417093-59b7-4a39-8442-3296636785bb",
   "metadata": {},
   "source": [
    "## 책 데이터셋"
   ]
  },
  {
   "cell_type": "code",
   "execution_count": 94,
   "id": "feccbc28-3b48-4117-b6d4-82cc156caa1c",
   "metadata": {},
   "outputs": [
    {
     "name": "stdout",
     "output_type": "stream",
     "text": [
      "394\n"
     ]
    }
   ],
   "source": [
    "import PyPDF2\n",
    "from textblob import TextBlob\n",
    "\n",
    "pdf_file = open('sample_book.pdf', 'rb')\n",
    "reader = PyPDF2.PdfReader(pdf_file)\n",
    "\n",
    "total_pages = len(reader.pages)\n",
    "print(total_pages)"
   ]
  },
  {
   "cell_type": "code",
   "execution_count": 95,
   "id": "48067a71-faf4-46ba-b4fd-04b64aa8d980",
   "metadata": {},
   "outputs": [],
   "source": [
    "## Air clean\n",
    "page_no = 0\n",
    "df_save = pd.DataFrame(columns=['page', 'text_exp', 'api'])\n",
    "file_name = \"text_total.txt\"  #  str(file_no) 추가\n",
    "with open(file_name, \"w\") as file:\n",
    "    for page_no in range(total_pages):\n",
    "       # print(f\"\\n\\n**** PAGE {page_no + 1} ****\\n\\n\")\n",
    "        now_page = reader.pages[page_no]\n",
    "        #file.write(str(file_no))  # str(file_no) 추가\n",
    "        file.write(now_page.extract_text())\n",
    "        # df_save.loc[page_no] = df_save.append({'page': page_no, 'desc': now_page.extract_text(), 'api':'air_cleaner'}, ignore_index=True)\n",
    "        df_save.loc[page_no] = {'page': page_no, 'text_exp': now_page.extract_text(), 'api':'book_api'}"
   ]
  },
  {
   "cell_type": "code",
   "execution_count": 97,
   "id": "363bce28-4f4a-441c-9189-cc3f4f57ff7b",
   "metadata": {},
   "outputs": [],
   "source": [
    "df_save = df_save[['text_exp', 'api']].reset_index(drop = True)"
   ]
  },
  {
   "cell_type": "code",
   "execution_count": 99,
   "id": "39ea3101-4c3c-4deb-a5bc-c1199d5152ac",
   "metadata": {},
   "outputs": [
    {
     "name": "stderr",
     "output_type": "stream",
     "text": [
      "100%|██████████| 1/1 [00:00<00:00, 13797.05it/s]\n"
     ]
    }
   ],
   "source": [
    "pandas_gbq.to_gbq(df_save, \"LG_test.book_dataset\")"
   ]
  },
  {
   "cell_type": "code",
   "execution_count": 100,
   "id": "b45abcd3-cd0a-4916-b739-3e526c638bdc",
   "metadata": {},
   "outputs": [],
   "source": [
    "df_save.to_csv('book_dataset.csv')"
   ]
  },
  {
   "cell_type": "markdown",
   "id": "ff3b3320-c53b-43e6-9703-26e4c35c40da",
   "metadata": {},
   "source": [
    "## 빅쿼리 가이드"
   ]
  },
  {
   "cell_type": "code",
   "execution_count": 101,
   "id": "d89f8d04-d204-41c3-9a6a-ad4f3e87c09e",
   "metadata": {},
   "outputs": [
    {
     "name": "stdout",
     "output_type": "stream",
     "text": [
      "71\n"
     ]
    }
   ],
   "source": [
    "pdf_file = open('bigquery_guide.pdf', 'rb')\n",
    "reader = PyPDF2.PdfReader(pdf_file)\n",
    "\n",
    "total_pages = len(reader.pages)\n",
    "print(total_pages)"
   ]
  },
  {
   "cell_type": "code",
   "execution_count": 102,
   "id": "a8e544a7-2ca6-48ab-80a5-713a0bb57d3c",
   "metadata": {},
   "outputs": [],
   "source": [
    "## Air clean\n",
    "page_no = 0\n",
    "df_save = pd.DataFrame(columns=['page', 'text_exp', 'api'])\n",
    "file_name = \"text_total.txt\"  #  str(file_no) 추가\n",
    "with open(file_name, \"w\") as file:\n",
    "    for page_no in range(total_pages):\n",
    "       # print(f\"\\n\\n**** PAGE {page_no + 1} ****\\n\\n\")\n",
    "        now_page = reader.pages[page_no]\n",
    "        #file.write(str(file_no))  # str(file_no) 추가\n",
    "        file.write(now_page.extract_text())\n",
    "        # df_save.loc[page_no] = df_save.append({'page': page_no, 'desc': now_page.extract_text(), 'api':'air_cleaner'}, ignore_index=True)\n",
    "        df_save.loc[page_no] = {'page': page_no, 'text_exp': now_page.extract_text(), 'api':'bigquery_api'}"
   ]
  },
  {
   "cell_type": "code",
   "execution_count": 103,
   "id": "71f75ed7-51bf-4f42-9967-ee384200bf2c",
   "metadata": {},
   "outputs": [],
   "source": [
    "df_save = df_save[['text_exp', 'api']].reset_index(drop = True)"
   ]
  },
  {
   "cell_type": "code",
   "execution_count": 104,
   "id": "8b002e67-0455-459a-8279-a4432ae55450",
   "metadata": {},
   "outputs": [
    {
     "name": "stderr",
     "output_type": "stream",
     "text": [
      "100%|██████████| 1/1 [00:00<00:00, 9198.04it/s]\n"
     ]
    }
   ],
   "source": [
    "pandas_gbq.to_gbq(df_save, \"LG_test.bq_dataset\")"
   ]
  },
  {
   "cell_type": "code",
   "execution_count": 105,
   "id": "823af403-d355-42d1-89d3-b10520196727",
   "metadata": {},
   "outputs": [],
   "source": [
    "df_save.to_csv('bq_dataset.csv')"
   ]
  },
  {
   "cell_type": "markdown",
   "id": "67a30454-1a5c-46f9-8ecb-cffd80386604",
   "metadata": {},
   "source": [
    "## Review Dataset"
   ]
  },
  {
   "cell_type": "code",
   "execution_count": 3,
   "id": "b38a84a0-d2ea-482a-9701-efcffab8c33f",
   "metadata": {},
   "outputs": [
    {
     "name": "stdout",
     "output_type": "stream",
     "text": [
      "Downloading: 100%|\u001b[32m██████████\u001b[0m|\n"
     ]
    }
   ],
   "source": [
    "sql = \"select Review as text_exp, 'Retaurant_api' as api from `jc-gcp-project.jc_demo_test.review_text_sample` where not (Review like '%티브이%'or Review like '%TV%'or Review like '%tv%'or Review like '%티비%' or Review like '%텔레비%' or Review like '%에어컨%' or Review like '%공기%'or Review like '%공기청정기%'or Review like '%공기 청정기%' or Review like '%청정기%' or Review like '%시원%'or Review like '%고장%' or Review like '%고쳐%' or Review like '%air%') limit 5000;\"\n",
    "df = pandas_gbq.read_gbq(sql, project_id='jc-gcp-project')"
   ]
  },
  {
   "cell_type": "code",
   "execution_count": 4,
   "id": "692019b8-19f4-4965-97c5-b60b35320b9d",
   "metadata": {},
   "outputs": [],
   "source": [
    "df.to_csv('review_dataset.csv')"
   ]
  },
  {
   "cell_type": "code",
   "execution_count": null,
   "id": "7b8b2165-fd4c-4728-8ee8-7894b2867d8e",
   "metadata": {},
   "outputs": [],
   "source": [
    "1+1"
   ]
  },
  {
   "cell_type": "code",
   "execution_count": null,
   "id": "48dc319f-a65b-4016-88d1-455a86950e2d",
   "metadata": {},
   "outputs": [],
   "source": []
  }
 ],
 "metadata": {
  "environment": {
   "kernel": "conda-root-py",
   "name": "workbench-notebooks.m111",
   "type": "gcloud",
   "uri": "gcr.io/deeplearning-platform-release/workbench-notebooks:m111"
  },
  "kernelspec": {
   "display_name": "Python 3",
   "language": "python",
   "name": "conda-root-py"
  },
  "language_info": {
   "codemirror_mode": {
    "name": "ipython",
    "version": 3
   },
   "file_extension": ".py",
   "mimetype": "text/x-python",
   "name": "python",
   "nbconvert_exporter": "python",
   "pygments_lexer": "ipython3",
   "version": "3.10.12"
  }
 },
 "nbformat": 4,
 "nbformat_minor": 5
}
